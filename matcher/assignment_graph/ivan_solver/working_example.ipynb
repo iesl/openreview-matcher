{
 "cells": [
  {
   "cell_type": "code",
   "execution_count": 1,
   "metadata": {},
   "outputs": [],
   "source": [
    "import numpy as np\n",
    "import autoassigner\n",
    "from matcher.solvers.simple_solver import SimpleSolver\n",
    "from matcher.solvers.maximin_solver import MaxiMinSolver\n"
   ]
  },
  {
   "cell_type": "markdown",
   "metadata": {},
   "source": [
    "## Examples"
   ]
  },
  {
   "cell_type": "code",
   "execution_count": 2,
   "metadata": {
    "collapsed": true
   },
   "outputs": [],
   "source": [
    "avg_est = lambda x: x\n",
    "mle_est = lambda x: 1./(1-x) if x < 1 else 1e6"
   ]
  },
  {
   "cell_type": "markdown",
   "metadata": {},
   "source": [
    "### Example 1:\n",
    "Comparison between **Ivan's autoassigner (PeerReview4All)**, the **simple solver** (global maximizer; used by TPMS and ORPMS currently), and the **PeerReview4All subroutine** (maximizes the minimum scores per paper)."
   ]
  },
  {
   "cell_type": "code",
   "execution_count": 3,
   "metadata": {
    "collapsed": true
   },
   "outputs": [],
   "source": [
    "similarity0 = np.matrix([[1., 1., 1.], \n",
    "                         [0., 0., 1./4], \n",
    "                         [1./4, 1./4, 1./2]])\n",
    "\n",
    "cost0 = np.asarray(-1 * similarity0)\n",
    "constraint0 = np.asarray(0 * similarity0)\n",
    "\n",
    "papers_per_reviewer0 = 1\n",
    "reviewers_per_paper0 = 1\n",
    "num_reviewers0 = 3"
   ]
  },
  {
   "cell_type": "code",
   "execution_count": 4,
   "metadata": {},
   "outputs": [
    {
     "name": "stdout",
     "output_type": "stream",
     "text": [
      "Academic license - for non-commercial use only\n",
      "fairness of the resulting assignment: 0.25\n"
     ]
    },
    {
     "data": {
      "text/plain": [
       "{0: [2], 1: [0], 2: [1]}"
      ]
     },
     "execution_count": 4,
     "metadata": {},
     "output_type": "execute_result"
    }
   ],
   "source": [
    "a = autoassigner.auto_assigner(\n",
    "    similarity0, \n",
    "    papers_per_reviewer0, \n",
    "    reviewers_per_paper0, \n",
    "    avg_est\n",
    ")\n",
    "\n",
    "a.fair_assignment('fast')\n",
    "print('fairness of the resulting assignment:', \"%.2f\" % a.best_quality)\n",
    "\n",
    "# a.fa is the FA (\"fair assignment\") of solver a. \n",
    "# it is a dict keyed on paper index. each value is a list of reviewer indices.\n",
    "a.fa"
   ]
  },
  {
   "cell_type": "code",
   "execution_count": 5,
   "metadata": {},
   "outputs": [
    {
     "name": "stdout",
     "output_type": "stream",
     "text": [
      "fairness of the resulting assignment: 0.25\n"
     ]
    },
    {
     "data": {
      "text/plain": [
       "{0: [1], 1: [2], 2: [0]}"
      ]
     },
     "execution_count": 5,
     "metadata": {},
     "output_type": "execute_result"
    }
   ],
   "source": [
    "b = autoassigner.auto_assigner(\n",
    "    similarity0, \n",
    "    papers_per_reviewer0, \n",
    "    reviewers_per_paper0, \n",
    "    avg_est\n",
    ")\n",
    "\n",
    "b.fair_assignment('ortools')\n",
    "print('fairness of the resulting assignment:', \"%.2f\" % a.best_quality)\n",
    "\n",
    "# a.fa is the FA (\"fair assignment\") of solver a. \n",
    "# it is a dict keyed on paper index. each value is a list of reviewer indices.\n",
    "b.fa"
   ]
  },
  {
   "cell_type": "code",
   "execution_count": 6,
   "metadata": {},
   "outputs": [
    {
     "data": {
      "text/plain": [
       "{0: [2], 1: [0], 2: [1]}"
      ]
     },
     "execution_count": 6,
     "metadata": {},
     "output_type": "execute_result"
    }
   ],
   "source": [
    "a.fa"
   ]
  },
  {
   "cell_type": "code",
   "execution_count": 7,
   "metadata": {
    "collapsed": true
   },
   "outputs": [],
   "source": [
    "def translate_openreview_solution(solution):\n",
    "    openreview_assignment = {}\n",
    "    for idx, row in enumerate(solution):\n",
    "        openreview_assignment[idx] = []\n",
    "        for cidx, cell in enumerate(row):\n",
    "            if cell == 1.0:\n",
    "                openreview_assignment[idx].append(int(cidx))\n",
    "\n",
    "    return openreview_assignment\n"
   ]
  },
  {
   "cell_type": "code",
   "execution_count": 8,
   "metadata": {},
   "outputs": [
    {
     "data": {
      "text/plain": [
       "{0: [0], 1: [2], 2: [1]}"
      ]
     },
     "execution_count": 8,
     "metadata": {},
     "output_type": "execute_result"
    }
   ],
   "source": [
    "simple_solver = SimpleSolver(\n",
    "    num_reviewers0*[papers_per_reviewer0], \n",
    "    num_reviewers0*[papers_per_reviewer0], \n",
    "    num_reviewers0*[reviewers_per_paper0], \n",
    "    cost0,\n",
    "    constraint0\n",
    ")\n",
    "\n",
    "translate_openreview_solution(simple_solver.solve())"
   ]
  },
  {
   "cell_type": "code",
   "execution_count": 9,
   "metadata": {},
   "outputs": [
    {
     "data": {
      "text/plain": [
       "{0: [1], 1: [2], 2: [0]}"
      ]
     },
     "execution_count": 9,
     "metadata": {},
     "output_type": "execute_result"
    }
   ],
   "source": [
    "maximin_solver = MaxiMinSolver(\n",
    "    num_reviewers0*[papers_per_reviewer0], \n",
    "    num_reviewers0*[reviewers_per_paper0], \n",
    "    cost0,\n",
    "    constraint0\n",
    ")\n",
    "translate_openreview_solution(maximin_solver.solve())"
   ]
  },
  {
   "cell_type": "markdown",
   "metadata": {},
   "source": [
    "### Example 2"
   ]
  },
  {
   "cell_type": "code",
   "execution_count": 12,
   "metadata": {
    "collapsed": true
   },
   "outputs": [],
   "source": [
    "similarity1 = np.matrix([[1., 1., 1., 1., 0., 0.], [0., 0., 0., 0., 1./3, 1./3], \n",
    "                        [0., 0., 0., 0., 1./3., 1./3], [0., 0., 0., 0., 1./3., 1./3],\n",
    "                        [1./2, 1./2, 1./2, 1./2, 1./2., 1./2.], [1./2, 1./2, 1./2, 1./2, 1./2., 1./2.]])\n",
    "\n",
    "cost1 = np.asarray(-1 * similarity1)\n",
    "constraint1 = np.asarray(0 * similarity1)\n",
    "\n",
    "papers_per_reviewer1 = 2\n",
    "reviewers_per_paper1 = 2\n",
    "num_reviewers1 = 6"
   ]
  },
  {
   "cell_type": "code",
   "execution_count": 13,
   "metadata": {},
   "outputs": [
    {
     "name": "stdout",
     "output_type": "stream",
     "text": [
      "fairness of the resulting assignment: 3.00\n"
     ]
    }
   ],
   "source": [
    "a1 = autoassigner.auto_assigner(\n",
    "    similarity1, \n",
    "    papers_per_reviewer1, \n",
    "    reviewers_per_paper1, \n",
    "    mle_est\n",
    ")\n",
    "a1.fair_assignment('full')\n",
    "print('fairness of the resulting assignment:', \"%.2f\" % a1.best_quality)"
   ]
  },
  {
   "cell_type": "markdown",
   "metadata": {},
   "source": [
    "## OR Tools testing"
   ]
  },
  {
   "cell_type": "code",
   "execution_count": null,
   "metadata": {},
   "outputs": [],
   "source": [
    "# \"\"\"From Bradley, Hax, and Magnanti, 'Applied Mathematical Programming', figure 8.1.\"\"\"\n",
    "\n",
    "from __future__ import print_function\n",
    "from ortools.graph import pywrapgraph\n",
    "\n",
    "\"\"\"MinCostFlow simple interface example.\"\"\"\n",
    "\n",
    "# Define four parallel arrays: start_nodes, end_nodes, capacities, and unit costs\n",
    "# between each pair. For instance, the arc from node 0 to node 1 has a\n",
    "# capacity of 15 and a unit cost of 4.\n",
    "\n",
    "start_nodes = [ 0, 0,  1, 1,  1,  2, 2,  3, 4]\n",
    "end_nodes   = [ 1, 2,  2, 3,  4,  3, 4,  4, 2]\n",
    "capacities  = [15, 8, 20, 4, 10, 15, 4, 20, 5]\n",
    "# capacities  = [ 1, 1,  1, 1,  1,  1, 1,  1, 1]\n",
    "unit_costs  = [ 4, 4,  2, 2,  6,  1, 3,  2, 3]\n",
    "\n",
    "# Define an array of supplies at each node.\n",
    "\n",
    "supplies = [20, 0, 0, -5, -15]\n",
    "\n",
    "\n",
    "# Instantiate a SimpleMinCostFlow solver.\n",
    "min_cost_flow = pywrapgraph.SimpleMinCostFlow()\n",
    "\n",
    "# Add each arc.\n",
    "for i in range(0, len(start_nodes)):\n",
    "    min_cost_flow.AddArcWithCapacityAndUnitCost(start_nodes[i], end_nodes[i],\n",
    "                                            capacities[i], unit_costs[i])\n",
    "\n",
    "# Add node supplies.\n",
    "\n",
    "for i in range(0, len(supplies)):\n",
    "    min_cost_flow.SetNodeSupply(i, supplies[i])\n",
    "\n",
    "\n",
    "# Find the minimum cost flow between node 0 and node 4.\n",
    "if min_cost_flow.Solve() == min_cost_flow.OPTIMAL:\n",
    "    print('Minimum cost:', min_cost_flow.OptimalCost())\n",
    "    print('')\n",
    "    print('  Arc    Flow / Capacity  Cost')\n",
    "    total_flow = 0\n",
    "    for i in range(min_cost_flow.NumArcs()):\n",
    "        cost = min_cost_flow.Flow(i) * min_cost_flow.UnitCost(i)\n",
    "        print('%1s -> %1s   %3s  / %3s       %3s' % (\n",
    "            min_cost_flow.Tail(i),\n",
    "            min_cost_flow.Head(i),\n",
    "            min_cost_flow.Flow(i),\n",
    "            min_cost_flow.Capacity(i),\n",
    "            cost))\n",
    "        total_flow += min_cost_flow.Flow(i)\n",
    "else:\n",
    "    print('There was an issue with the min cost flow input.')\n",
    "\n"
   ]
  },
  {
   "cell_type": "code",
   "execution_count": null,
   "metadata": {},
   "outputs": [],
   "source": [
    "min_cost_flow.Solve()"
   ]
  },
  {
   "cell_type": "code",
   "execution_count": null,
   "metadata": {},
   "outputs": [],
   "source": [
    "sum(supplies)"
   ]
  },
  {
   "cell_type": "code",
   "execution_count": null,
   "metadata": {},
   "outputs": [],
   "source": [
    "min_cost_flow.NOT_SOLVED"
   ]
  },
  {
   "cell_type": "code",
   "execution_count": null,
   "metadata": {
    "collapsed": true
   },
   "outputs": [],
   "source": []
  }
 ],
 "metadata": {
  "kernelspec": {
   "display_name": "openreview",
   "language": "python",
   "name": "openreview"
  },
  "language_info": {
   "codemirror_mode": {
    "name": "ipython",
    "version": 3
   },
   "file_extension": ".py",
   "mimetype": "text/x-python",
   "name": "python",
   "nbconvert_exporter": "python",
   "pygments_lexer": "ipython3",
   "version": "3.6.6"
  }
 },
 "nbformat": 4,
 "nbformat_minor": 2
}
