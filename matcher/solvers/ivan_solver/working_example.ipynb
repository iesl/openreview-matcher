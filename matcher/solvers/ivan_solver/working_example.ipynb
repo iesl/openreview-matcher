{
 "cells": [
  {
   "cell_type": "code",
   "execution_count": 1,
   "metadata": {},
   "outputs": [],
   "source": [
    "import autoassigner\n",
    "from matcher.solvers import simple_solver"
   ]
  },
  {
   "cell_type": "markdown",
   "metadata": {},
   "source": [
    "## Examples"
   ]
  },
  {
   "cell_type": "code",
   "execution_count": 2,
   "metadata": {
    "collapsed": true
   },
   "outputs": [],
   "source": [
    "import numpy as np"
   ]
  },
  {
   "cell_type": "code",
   "execution_count": 3,
   "metadata": {
    "collapsed": true
   },
   "outputs": [],
   "source": [
    "avg_est = lambda x: x\n",
    "mle_est = lambda x: 1./(1-x) if x < 1 else 1e6"
   ]
  },
  {
   "cell_type": "markdown",
   "metadata": {},
   "source": [
    "### Example 1:\n",
    "Comparison between **Ivan's autoassigner (PeerReview4All)**, the **simple solver** (global maximizer; used by TPMS and ORPMS currently), and the **PeerReview4All subroutine** (maximizes the minimum scores per paper)."
   ]
  },
  {
   "cell_type": "code",
   "execution_count": 4,
   "metadata": {
    "collapsed": true
   },
   "outputs": [],
   "source": [
    "similarity0 = np.matrix([[1., 1., 1.], \n",
    "                         [0., 0., 1./4], \n",
    "                         [1./4, 1./4, 1./2]])\n",
    "\n",
    "cost0 = np.asarray(-1 * similarity0)\n",
    "constraint0 = np.asarray(0 * similarity0)\n",
    "\n",
    "papers_per_reviewer0 = 1\n",
    "reviewers_per_paper0 = 1\n",
    "num_reviewers0 = 3"
   ]
  },
  {
   "cell_type": "code",
   "execution_count": 10,
   "metadata": {},
   "outputs": [
    {
     "name": "stdout",
     "output_type": "stream",
     "text": [
      "fairness of the resulting assignment: 0.25\n"
     ]
    },
    {
     "data": {
      "text/plain": [
       "{0: [2], 1: [0], 2: [1]}"
      ]
     },
     "execution_count": 10,
     "metadata": {},
     "output_type": "execute_result"
    }
   ],
   "source": [
    "a = autoassigner.auto_assigner(\n",
    "    similarity0, \n",
    "    papers_per_reviewer0, \n",
    "    reviewers_per_paper0, \n",
    "    avg_est\n",
    ")\n",
    "\n",
    "a.fair_assignment('fast')\n",
    "print('fairness of the resulting assignment:', \"%.2f\" % a.best_quality)\n",
    "\n",
    "a.fa"
   ]
  },
  {
   "cell_type": "code",
   "execution_count": 6,
   "metadata": {
    "collapsed": true
   },
   "outputs": [],
   "source": [
    "openreview_solver = simple_solver.Solver(\n",
    "    num_reviewers0*[papers_per_reviewer0], \n",
    "    num_reviewers0*[papers_per_reviewer0], \n",
    "    num_reviewers0*[reviewers_per_paper0], \n",
    "    cost0,\n",
    "    constraint0\n",
    ")"
   ]
  },
  {
   "cell_type": "code",
   "execution_count": 7,
   "metadata": {},
   "outputs": [
    {
     "data": {
      "text/plain": [
       "array([[1., 0., 0.],\n",
       "       [0., 0., 1.],\n",
       "       [0., 1., 0.]])"
      ]
     },
     "execution_count": 7,
     "metadata": {},
     "output_type": "execute_result"
    }
   ],
   "source": [
    "openreview_solver.solve()"
   ]
  },
  {
   "cell_type": "markdown",
   "metadata": {},
   "source": [
    "### Example 2"
   ]
  },
  {
   "cell_type": "code",
   "execution_count": 8,
   "metadata": {
    "collapsed": true
   },
   "outputs": [],
   "source": [
    "similarity1 = np.matrix([[1., 1., 1., 1., 0., 0.], [0., 0., 0., 0., 1./3, 1./3], \n",
    "                        [0., 0., 0., 0., 1./3., 1./3], [0., 0., 0., 0., 1./3., 1./3],\n",
    "                        [1./2, 1./2, 1./2, 1./2, 1./2., 1./2.], [1./2, 1./2, 1./2, 1./2, 1./2., 1./2.]])\n",
    "\n",
    "cost1 = np.asarray(-1 * similarity1)\n",
    "constraint1 = np.asarray(0 * similarity1)\n",
    "\n",
    "papers_per_reviewer1 = 2\n",
    "reviewers_per_paper1 = 2\n",
    "num_reviewers1 = 6"
   ]
  },
  {
   "cell_type": "code",
   "execution_count": 9,
   "metadata": {},
   "outputs": [
    {
     "name": "stdout",
     "output_type": "stream",
     "text": [
      "fairness of the resulting assignment: 3.00\n"
     ]
    }
   ],
   "source": [
    "a1 = autoassigner.auto_assigner(\n",
    "    similarity1, \n",
    "    papers_per_reviewer1, \n",
    "    reviewers_per_paper1, \n",
    "    mle_est\n",
    ")\n",
    "a1.fair_assignment('full')\n",
    "print('fairness of the resulting assignment:', \"%.2f\" % a1.best_quality)"
   ]
  }
 ],
 "metadata": {
  "kernelspec": {
   "display_name": "openreview",
   "language": "python",
   "name": "openreview"
  },
  "language_info": {
   "codemirror_mode": {
    "name": "ipython",
    "version": 3
   },
   "file_extension": ".py",
   "mimetype": "text/x-python",
   "name": "python",
   "nbconvert_exporter": "python",
   "pygments_lexer": "ipython3",
   "version": "3.6.6"
  }
 },
 "nbformat": 4,
 "nbformat_minor": 2
}
